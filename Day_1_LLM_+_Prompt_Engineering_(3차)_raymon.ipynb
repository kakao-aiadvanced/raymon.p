{
  "nbformat": 4,
  "nbformat_minor": 0,
  "metadata": {
    "colab": {
      "provenance": []
    },
    "kernelspec": {
      "name": "python3",
      "display_name": "Python 3"
    },
    "language_info": {
      "name": "python"
    }
  },
  "cells": [
    {
      "cell_type": "code",
      "execution_count": 1,
      "metadata": {
        "colab": {
          "base_uri": "https://localhost:8080/"
        },
        "id": "urcKiZFYFNLX",
        "outputId": "09061762-0712-4181-8da8-5c6fc9492089"
      },
      "outputs": [
        {
          "output_type": "stream",
          "name": "stdout",
          "text": [
            "Collecting openai\n",
            "  Downloading openai-1.43.0-py3-none-any.whl.metadata (22 kB)\n",
            "Requirement already satisfied: anyio<5,>=3.5.0 in /usr/local/lib/python3.10/dist-packages (from openai) (3.7.1)\n",
            "Requirement already satisfied: distro<2,>=1.7.0 in /usr/lib/python3/dist-packages (from openai) (1.7.0)\n",
            "Collecting httpx<1,>=0.23.0 (from openai)\n",
            "  Downloading httpx-0.27.2-py3-none-any.whl.metadata (7.1 kB)\n",
            "Collecting jiter<1,>=0.4.0 (from openai)\n",
            "  Downloading jiter-0.5.0-cp310-cp310-manylinux_2_17_x86_64.manylinux2014_x86_64.whl.metadata (3.6 kB)\n",
            "Requirement already satisfied: pydantic<3,>=1.9.0 in /usr/local/lib/python3.10/dist-packages (from openai) (2.8.2)\n",
            "Requirement already satisfied: sniffio in /usr/local/lib/python3.10/dist-packages (from openai) (1.3.1)\n",
            "Requirement already satisfied: tqdm>4 in /usr/local/lib/python3.10/dist-packages (from openai) (4.66.5)\n",
            "Requirement already satisfied: typing-extensions<5,>=4.11 in /usr/local/lib/python3.10/dist-packages (from openai) (4.12.2)\n",
            "Requirement already satisfied: idna>=2.8 in /usr/local/lib/python3.10/dist-packages (from anyio<5,>=3.5.0->openai) (3.8)\n",
            "Requirement already satisfied: exceptiongroup in /usr/local/lib/python3.10/dist-packages (from anyio<5,>=3.5.0->openai) (1.2.2)\n",
            "Requirement already satisfied: certifi in /usr/local/lib/python3.10/dist-packages (from httpx<1,>=0.23.0->openai) (2024.7.4)\n",
            "Collecting httpcore==1.* (from httpx<1,>=0.23.0->openai)\n",
            "  Downloading httpcore-1.0.5-py3-none-any.whl.metadata (20 kB)\n",
            "Collecting h11<0.15,>=0.13 (from httpcore==1.*->httpx<1,>=0.23.0->openai)\n",
            "  Downloading h11-0.14.0-py3-none-any.whl.metadata (8.2 kB)\n",
            "Requirement already satisfied: annotated-types>=0.4.0 in /usr/local/lib/python3.10/dist-packages (from pydantic<3,>=1.9.0->openai) (0.7.0)\n",
            "Requirement already satisfied: pydantic-core==2.20.1 in /usr/local/lib/python3.10/dist-packages (from pydantic<3,>=1.9.0->openai) (2.20.1)\n",
            "Downloading openai-1.43.0-py3-none-any.whl (365 kB)\n",
            "\u001b[2K   \u001b[90m━━━━━━━━━━━━━━━━━━━━━━━━━━━━━━━━━━━━━━━━\u001b[0m \u001b[32m365.7/365.7 kB\u001b[0m \u001b[31m5.2 MB/s\u001b[0m eta \u001b[36m0:00:00\u001b[0m\n",
            "\u001b[?25hDownloading httpx-0.27.2-py3-none-any.whl (76 kB)\n",
            "\u001b[2K   \u001b[90m━━━━━━━━━━━━━━━━━━━━━━━━━━━━━━━━━━━━━━━━\u001b[0m \u001b[32m76.4/76.4 kB\u001b[0m \u001b[31m3.7 MB/s\u001b[0m eta \u001b[36m0:00:00\u001b[0m\n",
            "\u001b[?25hDownloading httpcore-1.0.5-py3-none-any.whl (77 kB)\n",
            "\u001b[2K   \u001b[90m━━━━━━━━━━━━━━━━━━━━━━━━━━━━━━━━━━━━━━━━\u001b[0m \u001b[32m77.9/77.9 kB\u001b[0m \u001b[31m4.6 MB/s\u001b[0m eta \u001b[36m0:00:00\u001b[0m\n",
            "\u001b[?25hDownloading jiter-0.5.0-cp310-cp310-manylinux_2_17_x86_64.manylinux2014_x86_64.whl (318 kB)\n",
            "\u001b[2K   \u001b[90m━━━━━━━━━━━━━━━━━━━━━━━━━━━━━━━━━━━━━━━━\u001b[0m \u001b[32m318.9/318.9 kB\u001b[0m \u001b[31m12.9 MB/s\u001b[0m eta \u001b[36m0:00:00\u001b[0m\n",
            "\u001b[?25hDownloading h11-0.14.0-py3-none-any.whl (58 kB)\n",
            "\u001b[2K   \u001b[90m━━━━━━━━━━━━━━━━━━━━━━━━━━━━━━━━━━━━━━━━\u001b[0m \u001b[32m58.3/58.3 kB\u001b[0m \u001b[31m1.2 MB/s\u001b[0m eta \u001b[36m0:00:00\u001b[0m\n",
            "\u001b[?25hInstalling collected packages: jiter, h11, httpcore, httpx, openai\n",
            "Successfully installed h11-0.14.0 httpcore-1.0.5 httpx-0.27.2 jiter-0.5.0 openai-1.43.0\n"
          ]
        }
      ],
      "source": [
        "pip install openai"
      ]
    },
    {
      "cell_type": "code",
      "source": [
        "import openai\n",
        "import re\n",
        "import time\n",
        "\n",
        "import numpy as np\n",
        "\n",
        "from tqdm import tqdm\n",
        "#from datasets import load_dataset"
      ],
      "metadata": {
        "id": "d2nuskPJFSzh"
      },
      "execution_count": 2,
      "outputs": []
    },
    {
      "cell_type": "code",
      "source": [
        "openai.api_key = \"sk-\""
      ],
      "metadata": {
        "id": "RLMRqq2pFY1U"
      },
      "execution_count": 3,
      "outputs": []
    },
    {
      "cell_type": "code",
      "source": [
        "from openai import OpenAI\n",
        "client = OpenAI(api_key=openai.api_key)\n",
        "\n",
        "completion = client.chat.completions.create(\n",
        "  model=\"gpt-3.5-turbo\",\n",
        "  messages=[\n",
        "    {\"role\": \"system\", \"content\": \"Please play the role of a math teacher. Please kindly answer the questions.\"},\n",
        "    {\"role\": \"user\", \"content\": \"what is the Newton’s law? How did World War I end?\"}\n",
        "  ]\n",
        ")\n",
        "\n",
        "print(completion.choices[0].message)"
      ],
      "metadata": {
        "colab": {
          "base_uri": "https://localhost:8080/"
        },
        "id": "zvOXBSL-FhSX",
        "outputId": "8ffb898f-6116-4e1a-800d-25baf9a1ff1e"
      },
      "execution_count": 4,
      "outputs": [
        {
          "output_type": "stream",
          "name": "stdout",
          "text": [
            "ChatCompletionMessage(content=\"Certainly! Newton's laws of motion are a set of three fundamental principles formulated by Sir Isaac Newton in the 17th century. They describe the relationship between a body and the forces acting on it. The three laws are:\\n\\n1. The first law, also known as the law of inertia, states that an object at rest will remain at rest, and an object in motion will remain in motion unless acted upon by an external force.\\n\\n2. The second law relates the force acting on an object to its mass and acceleration. It can be stated as F = ma, where F is the force applied, m is the mass of the object, and a is the acceleration produced.\\n\\n3. The third law states that for every action, there is an equal and opposite reaction.\\n\\nAs for how World War I ended, it officially ended on November 11, 1918, with the signing of the armistice agreement between the Allies and Germany. This agreement marked the cessation of hostilities on the Western Front and eventually led to the signing of the Treaty of Versailles in 1919, which officially ended the war.\", refusal=None, role='assistant', function_call=None, tool_calls=None)\n"
          ]
        }
      ]
    },
    {
      "cell_type": "markdown",
      "source": [
        "Few shot engineering"
      ],
      "metadata": {
        "id": "gTHtTveYGENV"
      }
    },
    {
      "cell_type": "markdown",
      "source": [
        "영어를 한국어로 번역하는 5-shot prompt 를 작성하고 \"dog\"를 번역해보세요"
      ],
      "metadata": {
        "id": "S02vbAAvGSvh"
      }
    },
    {
      "cell_type": "code",
      "source": [
        "completion = client.chat.completions.create(\n",
        "  model=\"gpt-4o-mini\",\n",
        "  messages=[\n",
        "    {\"role\": \"system\", \"content\": \"영어 : apple, 한국어 : 사과\"},\n",
        "    {\"role\": \"system\", \"content\": \"영어 : book, 한국어 : \u001f\"},\n",
        "    {\"role\": \"system\", \"content\": \"영어 : house, 한국어 : 집\"},\n",
        "    {\"role\": \"system\", \"content\": \"영어 : car, 한국어 : 자동차\"},\n",
        "    {\"role\": \"user\", \"content\": \"영어 : dog, 한국어 : ?\"},\n",
        "  ]\n",
        ")\n",
        "\n",
        "print(completion.choices[0].message)"
      ],
      "metadata": {
        "colab": {
          "base_uri": "https://localhost:8080/"
        },
        "id": "yRmAuQgRGSSy",
        "outputId": "2a52bb7f-a6da-4f38-8f41-44c2ff089ce9"
      },
      "execution_count": 6,
      "outputs": [
        {
          "output_type": "stream",
          "name": "stdout",
          "text": [
            "ChatCompletionMessage(content='영어 : dog, 한국어 : 개', refusal=None, role='assistant', function_call=None, tool_calls=None)\n"
          ]
        }
      ]
    },
    {
      "cell_type": "markdown",
      "source": [
        "자연어를 SQL 쿼리로 바꿔주는 few-shot prompt 를 작성해보세요."
      ],
      "metadata": {
        "id": "kVHCsz9OHDl4"
      }
    },
    {
      "cell_type": "code",
      "source": [
        "prompt_system = '''Convert the following natural language requests into SQL queries:\n",
        "1. \"salary 가 50000 을 초과하는 데이터중 모든 컬럼을 employees 에서 조회하세요.\": SELECT * FROM employees WHERE salary > 50000;\n",
        "2. \"stock이 0인 데이터중 모든 컬럼을 products 에서 조회하세요.\": SELECT * FROM products WHERE stock = 0;\n",
        "3. \"math_score가 90을 초과하는 데이터중 name 컬럼을 students에서 조회하세요.\": SELECT name FROM students WHERE math_score > 90;\n",
        "4. \"order_date 가 오늘을 기준으로 지난 30일 동안의 주문데이터 중 모든 컬럼을 orders 에서 조회하세요.\": SELECT * FROM orders WHERE order_date >= DATE_SUB(CURDATE(), INTERVAL 30 DAY);\n",
        "5. \"cumstomers를 city 별로 카운트 집계해줘. \": SELECT city, COUNT(*) FROM customers GROUP BY city;\n",
        "'''\n",
        "\n",
        "prompt_user = '''\n",
        "Request: \"Find the average salary of employees in the marketing department.\"\n",
        "SQL Query:\n",
        "'''\n",
        "\n",
        "completion = client.chat.completions.create(\n",
        "  model=\"gpt-4o-mini\",\n",
        "  messages=[\n",
        "    {\"role\": \"system\", \"content\": prompt_system},\n",
        "    {\"role\": \"user\", \"content\": prompt_user},\n",
        "  ]\n",
        ")\n",
        "\n",
        "print(completion.choices[0].message)"
      ],
      "metadata": {
        "colab": {
          "base_uri": "https://localhost:8080/"
        },
        "id": "PDLCtZPFGGQp",
        "outputId": "054097c0-9799-4ed5-814b-4a5c4cb086e8"
      },
      "execution_count": 7,
      "outputs": [
        {
          "output_type": "stream",
          "name": "stdout",
          "text": [
            "ChatCompletionMessage(content=\"```sql\\nSELECT AVG(salary) FROM employees WHERE department = 'Marketing';\\n```\", refusal=None, role='assistant', function_call=None, tool_calls=None)\n"
          ]
        }
      ]
    },
    {
      "cell_type": "markdown",
      "source": [
        "Chain of Thought"
      ],
      "metadata": {
        "id": "SA8XTE1LI0j5"
      }
    },
    {
      "cell_type": "markdown",
      "source": [
        "다음 문제를 푸는 Chain of thought prompt 를 작성해보세요.\n",
        "\n",
        "# Simple - 1\n",
        "Solve the following problem step-by-step: 23 + 47\n",
        "\n",
        "Step-by-step solution:\n",
        "1. Write your Prompt\n",
        "2. Write your Prompt\n",
        "3. Write your Prompt\n",
        "4. Write your Prompt\n",
        "\n",
        "Answer: 70\n",
        "\n",
        "\n",
        "\n",
        "# Simple - 2\n",
        "Solve the following problem step-by-step: 123 - 58\n",
        "\n",
        "Step-by-step solution:\n",
        "1. Write your Prompt\n",
        "2. Write your Prompt\n",
        "3. Write your Prompt\n",
        "4. Write your Prompt\n",
        "\n",
        "Answer: 65"
      ],
      "metadata": {
        "id": "DR5S4kxrI3mm"
      }
    },
    {
      "cell_type": "markdown",
      "source": [
        "위에서 작성한 Simple - 1, Simple - 2 를 few shot 으로 활용하고 아래 문제를 질문으로 하는 프롬프트를 작성하고 결과를 확인해보세요."
      ],
      "metadata": {
        "id": "nm8Ngwj5JQu2"
      }
    },
    {
      "cell_type": "code",
      "source": [
        "prompt_simple1 = '''\n",
        "Solve the following problem step-by-step: 23 + 47\n",
        "\n",
        "Step-by-step solution:\n",
        "\n",
        "Break down the numbers by place value:\n",
        "\n",
        "23 can be broken down into 20 (tens place) and 3 (ones place).\n",
        "47 can be broken down into 40 (tens place) and 7 (ones place).\n",
        "Add the tens place values together:\n",
        "\n",
        "20 (from 23) + 40 (from 47) = 60.\n",
        "Add the ones place values together:\n",
        "\n",
        "3 (from 23) + 7 (from 47) = 10.\n",
        "Combine the sums from the tens and ones place values:\n",
        "\n",
        "60 (tens sum) + 10 (ones sum) = 70.\n",
        "Answer: 70\n",
        "'''\n",
        "\n",
        "prompt_simple2 = '''\n",
        "Solve the following problem step-by-step: 123 - 58\n",
        "\n",
        "Step-by-step solution:\n",
        "\n",
        "Break down the numbers into place values:\n",
        "\n",
        "123 can be broken down into 100 (hundreds place), 20 (tens place), and 3 (ones place).\n",
        "58 can be broken down into 50 (tens place) and 8 (ones place).\n",
        "Subtract the tens place values:\n",
        "\n",
        "20 (from 123) - 50 (from 58). To handle this, first find the difference between 20 and 50, which is -30.\n",
        "Subtract the ones place values:\n",
        "\n",
        "3 (from 123) - 8 (from 58). This results in -5.\n",
        "Combine the results from the tens and ones place values:\n",
        "\n",
        "Adjust the subtraction of the tens place by adding 100 (to account for borrowing), making it 100 - 30 = 70.\n",
        "Now, subtract the ones place difference: 70 - 5 = 65.\n",
        "Answer: 65\n",
        "'''\n",
        "\n",
        "prompt_user = '''\n",
        "# Simple - 2\n",
        "Solve the following problem step-by-step: 123 - 58\n",
        "\n",
        "Step-by-step solution:\n",
        "1. Write your Prompt\n",
        "2. Write your Prompt\n",
        "3. Write your Prompt\n",
        "4. Write your Prompt\n",
        "\n",
        "Answer: 65\n",
        "'''\n",
        "\n",
        "\n",
        "completion = client.chat.completions.create(\n",
        "  model=\"gpt-4o-mini\",\n",
        "  messages=[\n",
        "    {\"role\": \"system\", \"content\": prompt_simple1},\n",
        "    {\"role\": \"system\", \"content\": prompt_simple2},\n",
        "    {\"role\": \"user\", \"content\": prompt_user},\n",
        "  ]\n",
        ")\n",
        "\n",
        "print(completion.choices[0].message)"
      ],
      "metadata": {
        "colab": {
          "base_uri": "https://localhost:8080/"
        },
        "id": "r4kBJVgEI1kg",
        "outputId": "2564de37-ff09-475f-a440-8256c24bc003"
      },
      "execution_count": 8,
      "outputs": [
        {
          "output_type": "stream",
          "name": "stdout",
          "text": [
            "ChatCompletionMessage(content=\"Let's solve the problem 123 - 58 step-by-step:\\n\\n1. **Break down the numbers into place values:**\\n   - 123 can be broken down into 100 (hundreds place), 20 (tens place), and 3 (ones place).\\n   - 58 can be broken down into 50 (tens place) and 8 (ones place).\\n\\n2. **Subtract the ones place values:**\\n   - From the ones place: 3 (from 123) - 8 (from 58). \\n   - Since 3 is less than 8, we need to borrow 1 from the tens place.\\n     - The tens place in 123 becomes 1 (20 - 10 = 10).\\n     - Now, we have 13 (because we added 10 to the 3).\\n     - 13 - 8 = 5.\\n\\n3. **Subtract the tens place values (after borrowing):**\\n   - With the borrowing, we have 10 (the new tens place) - 5 (from 58) = 5.\\n\\n4. **Subtract the hundreds place values:**\\n   - Since there is no hundreds place subtraction needed in the second number (58), we take 1 for the hundreds place of 123.\\n\\n5. **Combine the results:**\\n   - The remaining values are 1 (from the hundreds place) and 5 (from the tens place) and 5 (from the ones place):\\n     - So, we get 100 + 50 + 5 = 65.\\n\\nAnswer: 65\", refusal=None, role='assistant', function_call=None, tool_calls=None)\n"
          ]
        }
      ]
    }
  ]
}